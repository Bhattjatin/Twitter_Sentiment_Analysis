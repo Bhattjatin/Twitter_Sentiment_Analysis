{
 "cells": [
  {
   "cell_type": "code",
   "execution_count": 1,
   "id": "6c1f1f4b-d65a-4cf1-bf6d-5834da873f66",
   "metadata": {},
   "outputs": [
    {
     "name": "stdout",
     "output_type": "stream",
     "text": [
      "             tweet_id airline_sentiment    airline airline_sentiment_gold  \\\n",
      "0  567900433542488064          negative  Southwest                    NaN   \n",
      "1  569989168903819264          positive  Southwest                    NaN   \n",
      "2  568089179520954368          positive     United                    NaN   \n",
      "3  568928195581513728          negative  Southwest                    NaN   \n",
      "4  568594180014014464          negative     United                    NaN   \n",
      "\n",
      "            name negativereason_gold  retweet_count  \\\n",
      "0  ColeyGirouard                 NaN              0   \n",
      "1  WalterFaddoul                 NaN              0   \n",
      "2      LocalKyle                 NaN              0   \n",
      "3    amccarthy19                 NaN              0   \n",
      "4        J_Okayy                 NaN              0   \n",
      "\n",
      "                                                text tweet_coord  \\\n",
      "0  @SouthwestAir I am scheduled for the morning, ...         NaN   \n",
      "1  @SouthwestAir seeing your workers time in and ...         NaN   \n",
      "2  @united Flew ORD to Miami and back and  had gr...         NaN   \n",
      "3     @SouthwestAir @dultch97 that's horse radish 😤🐴         NaN   \n",
      "4  @united so our flight into ORD was delayed bec...         NaN   \n",
      "\n",
      "               tweet_created              tweet_location  \\\n",
      "0  2015-02-17 20:16:29 -0800             Washington D.C.   \n",
      "1  2015-02-23 14:36:22 -0800  Indianapolis, Indiana; USA   \n",
      "2  2015-02-18 08:46:29 -0800                    Illinois   \n",
      "3  2015-02-20 16:20:26 -0800                         NaN   \n",
      "4  2015-02-19 18:13:11 -0800                         NaN   \n",
      "\n",
      "                user_timezone  \n",
      "0      Atlantic Time (Canada)  \n",
      "1  Central Time (US & Canada)  \n",
      "2  Central Time (US & Canada)  \n",
      "3      Atlantic Time (Canada)  \n",
      "4  Eastern Time (US & Canada)  \n",
      "             tweet_id     airline airline_sentiment_gold          name  \\\n",
      "0  569682010270101504    American                    NaN      zsalim03   \n",
      "1  569608307184242688    American                    NaN      sa_craig   \n",
      "2  567879304593408001   Southwest                    NaN  DanaChristos   \n",
      "3  569757651539660801  US Airways                    NaN      rossj987   \n",
      "4  569900705852608513    American                    NaN    tranpham18   \n",
      "\n",
      "  negativereason_gold  retweet_count  \\\n",
      "0                 NaN              0   \n",
      "1                 NaN              0   \n",
      "2                 NaN              1   \n",
      "3                 NaN              0   \n",
      "4                 NaN              0   \n",
      "\n",
      "                                                text tweet_coord  \\\n",
      "0  @AmericanAir In car gng to DFW. Pulled over 1h...         NaN   \n",
      "1  @AmericanAir after all, the plane didn’t land ...         NaN   \n",
      "2  @SouthwestAir can't believe how many paying cu...         NaN   \n",
      "3  @USAirways I can legitimately say that I would...         NaN   \n",
      "4  @AmericanAir still no response from AA. great ...         NaN   \n",
      "\n",
      "               tweet_created       tweet_location               user_timezone  \n",
      "0  2015-02-22 18:15:50 -0800                Texas  Central Time (US & Canada)  \n",
      "1  2015-02-22 13:22:57 -0800  College Station, TX  Central Time (US & Canada)  \n",
      "2  2015-02-17 18:52:31 -0800                   CT  Eastern Time (US & Canada)  \n",
      "3  2015-02-22 23:16:24 -0800     Washington, D.C.  Eastern Time (US & Canada)  \n",
      "4  2015-02-23 08:44:51 -0800        New York City  Eastern Time (US & Canada)  \n"
     ]
    }
   ],
   "source": [
    "import pandas as pd\n",
    "\n",
    "# Load the train and test datasets\n",
    "train_data = pd.read_csv('train.csv')\n",
    "test_data = pd.read_csv('test.csv')\n",
    "\n",
    "# Check the structure of the data\n",
    "print(train_data.head())\n",
    "print(test_data.head())\n"
   ]
  },
  {
   "cell_type": "code",
   "execution_count": 2,
   "id": "9bbdbb03-c7c1-42b1-ac7b-1cc25797d8f3",
   "metadata": {},
   "outputs": [
    {
     "name": "stderr",
     "output_type": "stream",
     "text": [
      "[nltk_data] Downloading package stopwords to\n",
      "[nltk_data]     /Users/jatinbhatt/nltk_data...\n",
      "[nltk_data]   Package stopwords is already up-to-date!\n",
      "[nltk_data] Downloading package punkt to\n",
      "[nltk_data]     /Users/jatinbhatt/nltk_data...\n",
      "[nltk_data]   Package punkt is already up-to-date!\n",
      "[nltk_data] Downloading package punkt_tab to\n",
      "[nltk_data]     /Users/jatinbhatt/nltk_data...\n",
      "[nltk_data]   Unzipping tokenizers/punkt_tab.zip.\n"
     ]
    }
   ],
   "source": [
    "import re\n",
    "from nltk.corpus import stopwords\n",
    "from nltk.stem import PorterStemmer\n",
    "from nltk.tokenize import word_tokenize\n",
    "\n",
    "# Ensure NLTK components are downloaded\n",
    "import nltk\n",
    "nltk.download('stopwords')\n",
    "nltk.download('punkt')\n",
    "nltk.download('punkt_tab')\n",
    "\n",
    "# Initialize objects\n",
    "stop_words = set(stopwords.words('english'))\n",
    "ps = PorterStemmer()\n",
    "\n",
    "# Text preprocessing function\n",
    "def preprocess_text(text):\n",
    "    text = text.lower()  # Convert to lowercase\n",
    "    text = re.sub(r\"http\\S+|www\\S+|https\\S+\", '', text, flags=re.MULTILINE)  # Remove URLs\n",
    "    text = re.sub(r'\\@\\w+|\\#', '', text)  # Remove mentions and hashtags\n",
    "    text = re.sub(r'[^\\w\\s]', '', text)  # Remove punctuation\n",
    "    tokens = word_tokenize(text)  # Tokenize\n",
    "    filtered_words = [ps.stem(word) for word in tokens if word not in stop_words]  # Stemming and stopword removal\n",
    "    return ' '.join(filtered_words)\n",
    "\n",
    "# Apply preprocessing\n",
    "train_data['cleaned_text'] = train_data['text'].apply(preprocess_text)\n",
    "test_data['cleaned_text'] = test_data['text'].apply(preprocess_text)\n"
   ]
  },
  {
   "cell_type": "code",
   "execution_count": 3,
   "id": "a029dba9-7ff8-485f-b92e-ab655f143b4a",
   "metadata": {},
   "outputs": [],
   "source": [
    "from sklearn.feature_extraction.text import TfidfVectorizer\n",
    "\n",
    "# Initialize TF-IDF Vectorizer\n",
    "tfidf_vect = TfidfVectorizer(max_features=5000)  # Adjust max_features as necessary\n",
    "\n",
    "# Fit and transform training data\n",
    "X_train = tfidf_vect.fit_transform(train_data['cleaned_text'])\n",
    "\n",
    "# Transform test data (do not fit)\n",
    "X_test = tfidf_vect.transform(test_data['cleaned_text'])\n"
   ]
  },
  {
   "cell_type": "code",
   "execution_count": 4,
   "id": "8a57eb85-a288-4b9a-b45d-c37b6423aee6",
   "metadata": {},
   "outputs": [
    {
     "name": "stdout",
     "output_type": "stream",
     "text": [
      "Validation Accuracy: 0.7076502732240437\n",
      "              precision    recall  f1-score   support\n",
      "\n",
      "    negative       0.69      0.99      0.82      1356\n",
      "     neutral       0.74      0.21      0.32       458\n",
      "    positive       0.89      0.30      0.45       382\n",
      "\n",
      "    accuracy                           0.71      2196\n",
      "   macro avg       0.77      0.50      0.53      2196\n",
      "weighted avg       0.74      0.71      0.65      2196\n",
      "\n"
     ]
    }
   ],
   "source": [
    "from sklearn.naive_bayes import MultinomialNB\n",
    "from sklearn.model_selection import train_test_split\n",
    "from sklearn.metrics import accuracy_score, classification_report\n",
    "\n",
    "# Extract target variable\n",
    "y_train = train_data['airline_sentiment']\n",
    "\n",
    "# Split the data into training and validation sets (optional for cross-validation)\n",
    "X_train_split, X_val_split, y_train_split, y_val_split = train_test_split(X_train, y_train, test_size=0.2, random_state=42)\n",
    "\n",
    "# Train Naive Bayes model\n",
    "nb_model = MultinomialNB()\n",
    "nb_model.fit(X_train_split, y_train_split)\n",
    "\n",
    "# Validate model\n",
    "y_val_pred = nb_model.predict(X_val_split)\n",
    "print(f\"Validation Accuracy: {accuracy_score(y_val_split, y_val_pred)}\")\n",
    "print(classification_report(y_val_split, y_val_pred))\n"
   ]
  },
  {
   "cell_type": "code",
   "execution_count": 5,
   "id": "e4fda33d-3a00-461d-a212-00c9f54d7cea",
   "metadata": {},
   "outputs": [],
   "source": [
    "# Make predictions on test data\n",
    "y_test_pred = nb_model.predict(X_test)\n",
    "\n",
    "# Save predictions to CSV without headers\n",
    "pd.DataFrame(y_test_pred).to_csv('predictions.csv', index=False, header=False)\n"
   ]
  },
  {
   "cell_type": "code",
   "execution_count": null,
   "id": "99cf0c36-8aa5-4b5a-bb93-05d2ca723c05",
   "metadata": {},
   "outputs": [],
   "source": []
  }
 ],
 "metadata": {
  "kernelspec": {
   "display_name": "Python 3 (ipykernel)",
   "language": "python",
   "name": "python3"
  },
  "language_info": {
   "codemirror_mode": {
    "name": "ipython",
    "version": 3
   },
   "file_extension": ".py",
   "mimetype": "text/x-python",
   "name": "python",
   "nbconvert_exporter": "python",
   "pygments_lexer": "ipython3",
   "version": "3.13.0"
  }
 },
 "nbformat": 4,
 "nbformat_minor": 5
}
